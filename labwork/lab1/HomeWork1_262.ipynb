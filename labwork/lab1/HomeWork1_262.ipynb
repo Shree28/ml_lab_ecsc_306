{
 "cells": [
  {
   "cell_type": "code",
   "execution_count": 1,
   "metadata": {},
   "outputs": [
    {
     "name": "stdout",
     "output_type": "stream",
     "text": [
      "16\n"
     ]
    }
   ],
   "source": [
    "import tensorflow as tf\n",
    "with tf.name_scope(\"Output\"): \n",
    "   \n",
    "    with tf.name_scope('a'):\n",
    "        a = 6\n",
    "        b = tf.pow(a, 2)\n",
    "        \n",
    "    with tf.name_scope(\"b\"):\n",
    "        c = 2\n",
    "        d = tf.pow(c, 2)\n",
    "    with tf.name_scope(\"a_b\"):\n",
    "        g = tf.add(b, d)\n",
    "    with tf.name_scope(\"2ab\"):    \n",
    "        e = tf.multiply(tf.multiply(2,a),c)\n",
    "         \n",
    "\n",
    "\n",
    "    with tf.name_scope(\"a_b_2ab\"):\n",
    "        h = tf.subtract(g, e)\n",
    "    \n",
    "\n",
    "with tf.Session() as sess:\n",
    "    writer = tf.summary.FileWriter(\"/tmp/tboard/output1\", sess.graph)\n",
    "    print(sess.run(h))\n",
    "    writer.close()\t"
   ]
  },
  {
   "cell_type": "code",
   "execution_count": null,
   "metadata": {
    "collapsed": true
   },
   "outputs": [],
   "source": []
  }
 ],
 "metadata": {
  "kernelspec": {
   "display_name": "Python 3",
   "language": "python",
   "name": "python3"
  },
  "language_info": {
   "codemirror_mode": {
    "name": "ipython",
    "version": 3
   },
   "file_extension": ".py",
   "mimetype": "text/x-python",
   "name": "python",
   "nbconvert_exporter": "python",
   "pygments_lexer": "ipython3",
   "version": "3.6.1"
  }
 },
 "nbformat": 4,
 "nbformat_minor": 2
}
